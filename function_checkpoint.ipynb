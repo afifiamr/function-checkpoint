{
  "nbformat": 4,
  "nbformat_minor": 0,
  "metadata": {
    "colab": {
      "name": "function checkpoint.ipynb",
      "provenance": [],
      "collapsed_sections": []
    },
    "kernelspec": {
      "name": "python3",
      "display_name": "Python 3"
    },
    "language_info": {
      "name": "python"
    }
  },
  "cells": [
    {
      "cell_type": "code",
      "execution_count": null,
      "metadata": {
        "colab": {
          "base_uri": "https://localhost:8080/"
        },
        "id": "IPlgCnFYG2Dl",
        "outputId": "484840ee-6e04-4ef3-dc1d-e1ecc690531a"
      },
      "outputs": [
        {
          "output_type": "stream",
          "name": "stdout",
          "text": [
            "black-green-red-white-yellow\n"
          ]
        }
      ],
      "source": [
        "#q4 function\n",
        "x= \"green-red-yellow-black-white\"\n",
        "y = x.split(\"-\")\n",
        "y.sort()\n",
        "c=0\n",
        "for i in y:\n",
        "  c = c + 1\n",
        "  if c>= len(y):\n",
        "   print(i)\n",
        "   break\n",
        "  print(i,end=\"-\")"
      ]
    },
    {
      "cell_type": "code",
      "source": [
        "#q1\n",
        "l=[20, 35, 19]\n",
        "l.sort()\n",
        "print(l[-1])\n",
        "\n",
        "\n"
      ],
      "metadata": {
        "colab": {
          "base_uri": "https://localhost:8080/"
        },
        "id": "o_CxRcawK4L4",
        "outputId": "a0645c52-5dc8-4cf1-aba1-d14b9f99e53d"
      },
      "execution_count": null,
      "outputs": [
        {
          "output_type": "stream",
          "name": "stdout",
          "text": [
            "35\n"
          ]
        }
      ]
    },
    {
      "cell_type": "code",
      "source": [
        "#q2\n",
        "def hi():\n",
        "  l=(40,10)\n",
        "  sum=l[0]+l[1]\n",
        "  hu=l[0]-l[1]\n",
        "  return sum , hu\n",
        "print(hi())"
      ],
      "metadata": {
        "colab": {
          "base_uri": "https://localhost:8080/"
        },
        "id": "-WjC4siQNr2u",
        "outputId": "1f6ac6fb-095a-465c-c896-3ca0a3a5c21b"
      },
      "execution_count": null,
      "outputs": [
        {
          "output_type": "stream",
          "name": "stdout",
          "text": [
            "(50, 30)\n"
          ]
        }
      ]
    },
    {
      "cell_type": "code",
      "source": [
        "#q3\n",
        "def m():\n",
        "  l=[1,2,3]\n",
        "l2=[4,5,6]\n",
        "x=l[0]+l[1]+l[-1]\n",
        "y=l2[0]*l2[1]*l2[-1]\n",
        "print(x)\n",
        "print(y)\n",
        "m=(l[0]*l2[1]),(l[2]*l[2])\n",
        "print(m)"
      ],
      "metadata": {
        "id": "eNXqbvLaQlMJ",
        "colab": {
          "base_uri": "https://localhost:8080/"
        },
        "outputId": "efbf3f76-45ad-45da-c909-60a0e79b22bc"
      },
      "execution_count": 11,
      "outputs": [
        {
          "output_type": "stream",
          "name": "stdout",
          "text": [
            "6\n",
            "120\n",
            "(5, 9)\n"
          ]
        }
      ]
    },
    {
      "cell_type": "code",
      "source": [
        ""
      ],
      "metadata": {
        "id": "7JHmd9xFMdab"
      },
      "execution_count": null,
      "outputs": []
    }
  ]
}